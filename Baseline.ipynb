{
 "cells": [
  {
   "cell_type": "code",
   "execution_count": 1,
   "id": "5085d622",
   "metadata": {},
   "outputs": [],
   "source": [
    "## Commencer par GUIT, inserer le repertoire sur guithub\n",
    "## Mettre en place, un guit \n",
    "## Commencer par l'analyse exploratoire \n",
    "## entrainer le model de classification, \n",
    "## Mettre en place L'api ( Guit GUITHUB)\n",
    "## Utiliser l'api"
   ]
  },
  {
   "cell_type": "code",
   "execution_count": 2,
   "id": "6a8adb19",
   "metadata": {},
   "outputs": [],
   "source": [
    "## Manipulation des données\n",
    "import numpy as np\n",
    "import pandas as pd\n",
    "\n",
    "## Bibliotheques graphiques\n",
    "import matplotlib.pyplot as plt\n",
    "import seaborn as sns\n",
    "\n",
    "from sklearn.preprocessing import MinMaxScaler, LabelEncoder\n",
    "from sklearn.impute import SimpleImputer\n",
    "from sklearn.linear_model import LogisticRegression\n",
    "from sklearn.ensemble import RandomForestClassifier, GradientBoostingClassifier\n",
    "from sklearn.metrics import roc_curve, roc_auc_score\n",
    "from sklearn.model_selection import KFold\n",
    "from sklearn import metrics\n",
    "from sklearn.tree import DecisionTreeClassifier\n",
    "\n",
    "from xgboost import XGBClassifier\n",
    "\n",
    "from fonctions import *\n",
    "import lightgbm as lgb\n",
    "import gc\n",
    "\n",
    "from sklearn.metrics import recall_score,precision_score,roc_auc_score,confusion_matrix,ConfusionMatrixDisplay,f1_score\n",
    "\n",
    "from collections import Counter\n",
    "\n",
    "from imblearn.under_sampling import RandomUnderSampler, NearMiss, TomekLinks\n",
    "from imblearn.over_sampling import RandomOverSampler, SMOTE\n",
    "\n",
    "import pickle"
   ]
  },
  {
   "cell_type": "code",
   "execution_count": 3,
   "id": "eb52ad2d",
   "metadata": {},
   "outputs": [],
   "source": [
    "def plot_feature_importances(df):\n",
    "    \"\"\"\n",
    "    Plot importances returned by a model. This can work with any measure of\n",
    "    feature importance provided that higher importance is better. \n",
    "    \n",
    "    Args:\n",
    "        df (dataframe): feature importances. Must have the features in a column\n",
    "        called `features` and the importances in a column called `importance\n",
    "        \n",
    "    Returns:\n",
    "        shows a plot of the 15 most importance features\n",
    "        \n",
    "        df (dataframe): feature importances sorted by importance (highest to lowest) \n",
    "        with a column for normalized importance\n",
    "        \"\"\"\n",
    "    \n",
    "    # Sort features according to importance\n",
    "    df = df.sort_values('importance', ascending = False).reset_index()\n",
    "    \n",
    "    # Normalize the feature importances to add up to one\n",
    "    df['importance_normalized'] = df['importance'] / df['importance'].sum()\n",
    "\n",
    "    # Make a horizontal bar chart of feature importances\n",
    "    plt.figure(figsize = (10, 6))\n",
    "    ax = plt.subplot()\n",
    "    \n",
    "    # Need to reverse the index to plot most important on top\n",
    "    ax.barh(list(reversed(list(df.index[:15]))), \n",
    "            df['importance_normalized'].head(15), \n",
    "            align = 'center', edgecolor = 'k')\n",
    "    \n",
    "    # Set the yticks and labels\n",
    "    ax.set_yticks(list(reversed(list(df.index[:15]))))\n",
    "    ax.set_yticklabels(df['feature'].head(15))\n",
    "    \n",
    "    # Plot labeling\n",
    "    plt.xlabel('Normalized Importance'); plt.title('Feature Importances')\n",
    "    plt.show()\n",
    "    \n",
    "    return df"
   ]
  },
  {
   "cell_type": "code",
   "execution_count": 4,
   "id": "99dd1daa",
   "metadata": {},
   "outputs": [],
   "source": [
    "def characteristic_classifier(y_test,y_predict):\n",
    "    \n",
    "    recall=recall_score(y_test,y_predict)\n",
    "    precision=precision_score(y_test,y_predict)\n",
    "    roc_score=roc_auc_score(y_test,y_predict)\n",
    "    cm = confusion_matrix(y_test, y_predict)\n",
    "    f1 = f1_score(y_test, y_predict)\n",
    "    \n",
    "    return recall,precision,roc_score,cm,f1"
   ]
  },
  {
   "cell_type": "code",
   "execution_count": 5,
   "id": "c8946a4e",
   "metadata": {},
   "outputs": [],
   "source": [
    "def df_score_classifier(df_scores,modele,score,precision,roc_score,cm,f1):\n",
    "    \n",
    "    df_scores.loc[df_scores.shape[0]] = [type(modele).__name__,score,precision,roc_score,cm,f1]\n",
    "    df_scores.sort_values(by='precision', ascending=False, inplace=True)\n",
    "    df_scores.drop_duplicates(subset=['modele'], keep='last', inplace=True)\n",
    "    df_scores.reset_index(drop=True, inplace=True)\n",
    "    \n",
    "    return df_scores"
   ]
  },
  {
   "cell_type": "code",
   "execution_count": 6,
   "id": "02bc3edf",
   "metadata": {},
   "outputs": [],
   "source": [
    "def feature_importances(X_train, y_train,X_test,y_test,modele):\n",
    "    model = modele\n",
    "    model.fit(X_train, y_train)\n",
    "\n",
    "    feature_importance_values = model.feature_importances_\n",
    "    feature_importances_model = pd.DataFrame({'feature': features, 'importance': feature_importance_values})\n",
    "\n",
    "    # Make predictions on the test data\n",
    "    y_predict = model.predict(X_test)\n",
    "       \n",
    "    return feature_importances_model,y_predict"
   ]
  },
  {
   "cell_type": "code",
   "execution_count": 7,
   "id": "3ae69612",
   "metadata": {},
   "outputs": [],
   "source": [
    "def model_classifier(X_train, y_train,X_test,y_test,modele):\n",
    "    model = modele\n",
    "    model.fit(X_train, y_train)\n",
    "\n",
    "    feature_importance_values = model.feature_importances_\n",
    "    feature_importances_model = pd.DataFrame({'feature': features, 'importance': feature_importance_values})\n",
    "\n",
    "    # Make predictions on the test data\n",
    "    y_predict = model.predict(X_test)\n",
    "       \n",
    "    return feature_importances_model,y_predict"
   ]
  },
  {
   "cell_type": "code",
   "execution_count": 8,
   "id": "09db33f1",
   "metadata": {},
   "outputs": [],
   "source": [
    "def model_classifier(X_train, y_train,X_test,y_test,modele):\n",
    "    model = modele\n",
    "    model.fit(X_train, y_train)\n",
    "\n",
    "    feature_importance_values = model.feature_importances_\n",
    "    feature_importances_model = pd.DataFrame({'feature': features, 'importance': feature_importance_values})\n",
    "\n",
    "    # Make predictions on the test data\n",
    "    y_predict = model.predict(X_test)\n",
    "       \n",
    "    return feature_importances_model,y_predict"
   ]
  },
  {
   "cell_type": "code",
   "execution_count": 9,
   "id": "f5895295",
   "metadata": {},
   "outputs": [],
   "source": [
    "def training_classifier(df_scores,modele):\n",
    "\n",
    "    feature_importances_model,y_predict = model_classifier(X_train, y_train,X_test,y_test,modele)\n",
    "    \n",
    "    recall,precision,roc_score,cm,f1=characteristic_classifier(y_test,y_predict)\n",
    "    recherche_classifier=df_score_classifier(df_scores,modele,recall,precision,roc_score,cm,f1)\n",
    "    \n",
    "    return recherche_classifier,feature_importances_model,y_predict"
   ]
  },
  {
   "cell_type": "code",
   "execution_count": 10,
   "id": "df7a2f23",
   "metadata": {},
   "outputs": [],
   "source": [
    "def barplot_classifier(df,label_x,label_y):\n",
    "\n",
    "    #sns.set(rc={'figure.figsize':(14,14)})\n",
    "    plt.figure(figsize=(10, 5))\n",
    "\n",
    "    img=sns.barplot(x=df[label_x],\n",
    "                           y=df[label_y]\n",
    "                           ) \n",
    "    for p in img.patches:\n",
    "        img.annotate(format(round(p.get_width(),2)),\n",
    "                          (p.get_width() - 0.1, p.get_y() + 0.05 + p.get_height()),\n",
    "                          color='#ffffff',\n",
    "                          fontsize=20,\n",
    "                          xytext=(15, 10),\n",
    "                          textcoords='offset points')\n",
    "\n",
    "    plt.ylabel(label_y, size=13, weight='bold')\n",
    "    plt.xlabel(label_x, size=13, weight='bold')\n",
    "    \n",
    "    return "
   ]
  },
  {
   "cell_type": "code",
   "execution_count": 11,
   "id": "3208df5a",
   "metadata": {},
   "outputs": [],
   "source": [
    "def cout_fonction(tn,fp,fn,tp,a,b,modele,df_cout):\n",
    "    # premier cas si le coeff de fp est superieur au coef de fn \n",
    "    score_cout = 2*tp/(2*tp+a*fn+b*fp)\n",
    "    \n",
    "    df_cout.loc[df_cout.shape[0]] = [type(modele).__name__,score_cout]\n",
    "    df_cout.sort_values(by='score_cout', ascending=False, inplace=True)\n",
    "    df_cout.drop_duplicates(subset=['modele'], keep='last', inplace=True)\n",
    "    df_cout.reset_index(drop=True, inplace=True)\n",
    "    return df_cout"
   ]
  },
  {
   "cell_type": "code",
   "execution_count": 12,
   "id": "ea9a690f",
   "metadata": {},
   "outputs": [],
   "source": [
    "app_train=pd.read_csv('app_train_domain.csv')\n",
    "app_test=pd.read_csv('app_test_domain.csv')"
   ]
  },
  {
   "cell_type": "code",
   "execution_count": 13,
   "id": "063c3c49",
   "metadata": {},
   "outputs": [
    {
     "data": {
      "text/plain": [
       "<enumerate at 0x1ee399888c0>"
      ]
     },
     "execution_count": 13,
     "metadata": {},
     "output_type": "execute_result"
    }
   ],
   "source": [
    "enumerate(app_test['SK_ID_CURR'])"
   ]
  },
  {
   "cell_type": "code",
   "execution_count": 14,
   "id": "f7cadcb1",
   "metadata": {},
   "outputs": [],
   "source": [
    "id=100003"
   ]
  },
  {
   "cell_type": "code",
   "execution_count": 15,
   "id": "b85f5c6b",
   "metadata": {},
   "outputs": [
    {
     "data": {
      "text/html": [
       "<div>\n",
       "<style scoped>\n",
       "    .dataframe tbody tr th:only-of-type {\n",
       "        vertical-align: middle;\n",
       "    }\n",
       "\n",
       "    .dataframe tbody tr th {\n",
       "        vertical-align: top;\n",
       "    }\n",
       "\n",
       "    .dataframe thead th {\n",
       "        text-align: right;\n",
       "    }\n",
       "</style>\n",
       "<table border=\"1\" class=\"dataframe\">\n",
       "  <thead>\n",
       "    <tr style=\"text-align: right;\">\n",
       "      <th></th>\n",
       "      <th>SK_ID_CURR</th>\n",
       "      <th>NAME_CONTRACT_TYPE</th>\n",
       "      <th>FLAG_OWN_CAR</th>\n",
       "      <th>FLAG_OWN_REALTY</th>\n",
       "      <th>CNT_CHILDREN</th>\n",
       "      <th>AMT_INCOME_TOTAL</th>\n",
       "      <th>AMT_CREDIT</th>\n",
       "      <th>AMT_ANNUITY</th>\n",
       "      <th>AMT_GOODS_PRICE</th>\n",
       "      <th>REGION_POPULATION_RELATIVE</th>\n",
       "      <th>...</th>\n",
       "      <th>WALLSMATERIAL_MODE_Stone, brick</th>\n",
       "      <th>WALLSMATERIAL_MODE_Wooden</th>\n",
       "      <th>EMERGENCYSTATE_MODE_No</th>\n",
       "      <th>EMERGENCYSTATE_MODE_Yes</th>\n",
       "      <th>Age</th>\n",
       "      <th>DAYS_EMPLOYED_ANOM</th>\n",
       "      <th>CREDIT_INCOME_PERCENT</th>\n",
       "      <th>ANNUITY_INCOME_PERCENT</th>\n",
       "      <th>CREDIT_TERM</th>\n",
       "      <th>DAYS_EMPLOYED_PERCENT</th>\n",
       "    </tr>\n",
       "  </thead>\n",
       "  <tbody>\n",
       "  </tbody>\n",
       "</table>\n",
       "<p>0 rows × 245 columns</p>\n",
       "</div>"
      ],
      "text/plain": [
       "Empty DataFrame\n",
       "Columns: [SK_ID_CURR, NAME_CONTRACT_TYPE, FLAG_OWN_CAR, FLAG_OWN_REALTY, CNT_CHILDREN, AMT_INCOME_TOTAL, AMT_CREDIT, AMT_ANNUITY, AMT_GOODS_PRICE, REGION_POPULATION_RELATIVE, DAYS_BIRTH, DAYS_EMPLOYED, DAYS_REGISTRATION, DAYS_ID_PUBLISH, OWN_CAR_AGE, FLAG_MOBIL, FLAG_EMP_PHONE, FLAG_WORK_PHONE, FLAG_CONT_MOBILE, FLAG_PHONE, FLAG_EMAIL, CNT_FAM_MEMBERS, REGION_RATING_CLIENT, REGION_RATING_CLIENT_W_CITY, HOUR_APPR_PROCESS_START, REG_REGION_NOT_LIVE_REGION, REG_REGION_NOT_WORK_REGION, LIVE_REGION_NOT_WORK_REGION, REG_CITY_NOT_LIVE_CITY, REG_CITY_NOT_WORK_CITY, LIVE_CITY_NOT_WORK_CITY, EXT_SOURCE_1, EXT_SOURCE_2, EXT_SOURCE_3, APARTMENTS_AVG, BASEMENTAREA_AVG, YEARS_BEGINEXPLUATATION_AVG, YEARS_BUILD_AVG, COMMONAREA_AVG, ELEVATORS_AVG, ENTRANCES_AVG, FLOORSMAX_AVG, FLOORSMIN_AVG, LANDAREA_AVG, LIVINGAPARTMENTS_AVG, LIVINGAREA_AVG, NONLIVINGAPARTMENTS_AVG, NONLIVINGAREA_AVG, APARTMENTS_MODE, BASEMENTAREA_MODE, YEARS_BEGINEXPLUATATION_MODE, YEARS_BUILD_MODE, COMMONAREA_MODE, ELEVATORS_MODE, ENTRANCES_MODE, FLOORSMAX_MODE, FLOORSMIN_MODE, LANDAREA_MODE, LIVINGAPARTMENTS_MODE, LIVINGAREA_MODE, NONLIVINGAPARTMENTS_MODE, NONLIVINGAREA_MODE, APARTMENTS_MEDI, BASEMENTAREA_MEDI, YEARS_BEGINEXPLUATATION_MEDI, YEARS_BUILD_MEDI, COMMONAREA_MEDI, ELEVATORS_MEDI, ENTRANCES_MEDI, FLOORSMAX_MEDI, FLOORSMIN_MEDI, LANDAREA_MEDI, LIVINGAPARTMENTS_MEDI, LIVINGAREA_MEDI, NONLIVINGAPARTMENTS_MEDI, NONLIVINGAREA_MEDI, TOTALAREA_MODE, OBS_30_CNT_SOCIAL_CIRCLE, DEF_30_CNT_SOCIAL_CIRCLE, OBS_60_CNT_SOCIAL_CIRCLE, DEF_60_CNT_SOCIAL_CIRCLE, DAYS_LAST_PHONE_CHANGE, FLAG_DOCUMENT_2, FLAG_DOCUMENT_3, FLAG_DOCUMENT_4, FLAG_DOCUMENT_5, FLAG_DOCUMENT_6, FLAG_DOCUMENT_7, FLAG_DOCUMENT_8, FLAG_DOCUMENT_9, FLAG_DOCUMENT_10, FLAG_DOCUMENT_11, FLAG_DOCUMENT_12, FLAG_DOCUMENT_13, FLAG_DOCUMENT_14, FLAG_DOCUMENT_15, FLAG_DOCUMENT_16, FLAG_DOCUMENT_17, FLAG_DOCUMENT_18, FLAG_DOCUMENT_19, ...]\n",
       "Index: []\n",
       "\n",
       "[0 rows x 245 columns]"
      ]
     },
     "execution_count": 15,
     "metadata": {},
     "output_type": "execute_result"
    }
   ],
   "source": [
    "app_test[app_test['SK_ID_CURR']==id]"
   ]
  },
  {
   "cell_type": "code",
   "execution_count": 16,
   "id": "2cfa0127",
   "metadata": {},
   "outputs": [
    {
     "name": "stdout",
     "output_type": "stream",
     "text": [
      "<class 'pandas.core.series.Series'>\n",
      "RangeIndex: 48744 entries, 0 to 48743\n",
      "Series name: SK_ID_CURR\n",
      "Non-Null Count  Dtype\n",
      "--------------  -----\n",
      "48744 non-null  int64\n",
      "dtypes: int64(1)\n",
      "memory usage: 380.9 KB\n"
     ]
    }
   ],
   "source": [
    "app_test['SK_ID_CURR'].info()"
   ]
  },
  {
   "cell_type": "code",
   "execution_count": 17,
   "id": "da3b48ab",
   "metadata": {},
   "outputs": [
    {
     "data": {
      "text/plain": [
       "False"
      ]
     },
     "execution_count": 17,
     "metadata": {},
     "output_type": "execute_result"
    }
   ],
   "source": [
    "id in list(app_test['SK_ID_CURR'])"
   ]
  },
  {
   "cell_type": "code",
   "execution_count": 18,
   "id": "797fdddf",
   "metadata": {},
   "outputs": [],
   "source": [
    "a=app_test[app_test['SK_ID_CURR']==id]"
   ]
  },
  {
   "cell_type": "code",
   "execution_count": 19,
   "id": "0ca20c10",
   "metadata": {},
   "outputs": [
    {
     "name": "stdout",
     "output_type": "stream",
     "text": [
      "il nest pas\n"
     ]
    }
   ],
   "source": [
    "    if (id in list(app_test['SK_ID_CURR']))==True:\n",
    "        print('il est')\n",
    "    elif (id in list(app_test['SK_ID_CURR']))==False:\n",
    "        print('il nest pas')"
   ]
  },
  {
   "cell_type": "markdown",
   "id": "01db0436",
   "metadata": {},
   "source": [
    "## Logistic Regression Implementation"
   ]
  },
  {
   "cell_type": "code",
   "execution_count": 20,
   "id": "00a8afc1",
   "metadata": {},
   "outputs": [],
   "source": [
    "train_labels=app_train['TARGET']"
   ]
  },
  {
   "cell_type": "code",
   "execution_count": 21,
   "id": "1eca4179",
   "metadata": {},
   "outputs": [],
   "source": [
    "\n",
    "# Drop the target from the training data\n",
    "if 'TARGET' in app_train:\n",
    "    train = app_train.drop(columns = ['TARGET'])\n",
    "else:\n",
    "    train = app_train.copy()\n",
    "    \n",
    "# Feature names\n",
    "features = list(train.columns)\n",
    "\n",
    "train=imputer(train,SimpleImputer(strategy = 'median'))\n",
    "train=imputer(train,MinMaxScaler(feature_range = (0, 1)))"
   ]
  },
  {
   "cell_type": "code",
   "execution_count": 22,
   "id": "072fe938",
   "metadata": {},
   "outputs": [],
   "source": [
    "test = app_test.copy()\n",
    "\n",
    "test=imputer(test,SimpleImputer(strategy = 'median'))\n",
    "test=imputer(test,MinMaxScaler(feature_range = (0, 1)))"
   ]
  },
  {
   "cell_type": "code",
   "execution_count": 23,
   "id": "bb80c540",
   "metadata": {},
   "outputs": [
    {
     "data": {
      "text/plain": [
       "LogisticRegression(C=0.0001)"
      ]
     },
     "execution_count": 23,
     "metadata": {},
     "output_type": "execute_result"
    }
   ],
   "source": [
    "log_reg = LogisticRegression(C = 0.0001)\n",
    "log_reg.fit(train, train_labels)"
   ]
  },
  {
   "cell_type": "code",
   "execution_count": 24,
   "id": "4c6fb739",
   "metadata": {},
   "outputs": [],
   "source": [
    "log_reg_pred = log_reg.predict_proba(test)[:, 1]"
   ]
  },
  {
   "cell_type": "code",
   "execution_count": 25,
   "id": "9d154284",
   "metadata": {},
   "outputs": [
    {
     "name": "stderr",
     "output_type": "stream",
     "text": [
      "C:\\Users\\huama\\AppData\\Local\\Temp\\ipykernel_4316\\3970473317.py:2: SettingWithCopyWarning: \n",
      "A value is trying to be set on a copy of a slice from a DataFrame.\n",
      "Try using .loc[row_indexer,col_indexer] = value instead\n",
      "\n",
      "See the caveats in the documentation: https://pandas.pydata.org/pandas-docs/stable/user_guide/indexing.html#returning-a-view-versus-a-copy\n",
      "  submit['TARGET'] = log_reg_pred\n"
     ]
    },
    {
     "data": {
      "text/html": [
       "<div>\n",
       "<style scoped>\n",
       "    .dataframe tbody tr th:only-of-type {\n",
       "        vertical-align: middle;\n",
       "    }\n",
       "\n",
       "    .dataframe tbody tr th {\n",
       "        vertical-align: top;\n",
       "    }\n",
       "\n",
       "    .dataframe thead th {\n",
       "        text-align: right;\n",
       "    }\n",
       "</style>\n",
       "<table border=\"1\" class=\"dataframe\">\n",
       "  <thead>\n",
       "    <tr style=\"text-align: right;\">\n",
       "      <th></th>\n",
       "      <th>SK_ID_CURR</th>\n",
       "      <th>TARGET</th>\n",
       "    </tr>\n",
       "  </thead>\n",
       "  <tbody>\n",
       "    <tr>\n",
       "      <th>0</th>\n",
       "      <td>100001</td>\n",
       "      <td>0.065241</td>\n",
       "    </tr>\n",
       "    <tr>\n",
       "      <th>1</th>\n",
       "      <td>100005</td>\n",
       "      <td>0.116583</td>\n",
       "    </tr>\n",
       "    <tr>\n",
       "      <th>2</th>\n",
       "      <td>100013</td>\n",
       "      <td>0.066872</td>\n",
       "    </tr>\n",
       "    <tr>\n",
       "      <th>3</th>\n",
       "      <td>100028</td>\n",
       "      <td>0.071306</td>\n",
       "    </tr>\n",
       "    <tr>\n",
       "      <th>4</th>\n",
       "      <td>100038</td>\n",
       "      <td>0.119277</td>\n",
       "    </tr>\n",
       "  </tbody>\n",
       "</table>\n",
       "</div>"
      ],
      "text/plain": [
       "   SK_ID_CURR    TARGET\n",
       "0      100001  0.065241\n",
       "1      100005  0.116583\n",
       "2      100013  0.066872\n",
       "3      100028  0.071306\n",
       "4      100038  0.119277"
      ]
     },
     "execution_count": 25,
     "metadata": {},
     "output_type": "execute_result"
    }
   ],
   "source": [
    "submit = app_test[['SK_ID_CURR']]\n",
    "submit['TARGET'] = log_reg_pred\n",
    "\n",
    "submit.head()"
   ]
  },
  {
   "cell_type": "code",
   "execution_count": 26,
   "id": "a95b8ebe",
   "metadata": {},
   "outputs": [],
   "source": [
    "from sklearn.model_selection import train_test_split\n",
    "X_train, X_test, y_train, y_test = train_test_split(train, train_labels, test_size=0.3, random_state=42)"
   ]
  },
  {
   "cell_type": "code",
   "execution_count": 27,
   "id": "a52020a5",
   "metadata": {},
   "outputs": [],
   "source": [
    "score=[]\n",
    "df_scores = pd.DataFrame(score, columns=['modele', 'recall','precision','roc_score','confusion_matrix','f1_score'])"
   ]
  },
  {
   "cell_type": "code",
   "execution_count": 28,
   "id": "b41b9244",
   "metadata": {},
   "outputs": [],
   "source": [
    "random_forest = RandomForestClassifier(n_estimators = 100, random_state = 50, verbose = 1, n_jobs = -1)\n",
    "gradient_boosting = GradientBoostingClassifier(n_estimators = 100, random_state = 50, verbose = 1)\n",
    "dtc = DecisionTreeClassifier()\n",
    "xgb=XGBClassifier()\n",
    "lgbm=lgb.LGBMClassifier(n_estimators=10000, objective = 'binary', \n",
    "                                   class_weight = 'balanced', learning_rate = 0.05, \n",
    "                                   reg_alpha = 0.1, reg_lambda = 0.1, \n",
    "                                   subsample = 0.8, n_jobs = -1, random_state = 50)"
   ]
  },
  {
   "cell_type": "code",
   "execution_count": 29,
   "id": "5d0c5997",
   "metadata": {},
   "outputs": [],
   "source": [
    "models= [random_forest,gradient_boosting,dtc,xgb,lgbm]"
   ]
  },
  {
   "cell_type": "markdown",
   "id": "3b9e2a0b",
   "metadata": {},
   "source": [
    "## Random Forest"
   ]
  },
  {
   "cell_type": "markdown",
   "id": "075d4ef9",
   "metadata": {},
   "source": [
    " Finaliser les modeles, comprendre le fonctionnement de precision, de score, roc, f_score, matrix de confusion "
   ]
  },
  {
   "cell_type": "code",
   "execution_count": 30,
   "id": "5f4d41e4",
   "metadata": {},
   "outputs": [
    {
     "name": "stderr",
     "output_type": "stream",
     "text": [
      "[Parallel(n_jobs=-1)]: Using backend ThreadingBackend with 12 concurrent workers.\n",
      "[Parallel(n_jobs=-1)]: Done  26 tasks      | elapsed:   40.3s\n",
      "[Parallel(n_jobs=-1)]: Done 100 out of 100 | elapsed:  1.5min finished\n",
      "[Parallel(n_jobs=12)]: Using backend ThreadingBackend with 12 concurrent workers.\n",
      "[Parallel(n_jobs=12)]: Done  26 tasks      | elapsed:    0.6s\n",
      "[Parallel(n_jobs=12)]: Done 100 out of 100 | elapsed:    2.2s finished\n"
     ]
    }
   ],
   "source": [
    "df_scores,feature_importances_rf,y_pred_rf=training_classifier(df_scores,random_forest)"
   ]
  },
  {
   "cell_type": "code",
   "execution_count": 31,
   "id": "0825fec7",
   "metadata": {},
   "outputs": [
    {
     "data": {
      "text/html": [
       "<div>\n",
       "<style scoped>\n",
       "    .dataframe tbody tr th:only-of-type {\n",
       "        vertical-align: middle;\n",
       "    }\n",
       "\n",
       "    .dataframe tbody tr th {\n",
       "        vertical-align: top;\n",
       "    }\n",
       "\n",
       "    .dataframe thead th {\n",
       "        text-align: right;\n",
       "    }\n",
       "</style>\n",
       "<table border=\"1\" class=\"dataframe\">\n",
       "  <thead>\n",
       "    <tr style=\"text-align: right;\">\n",
       "      <th></th>\n",
       "      <th>modele</th>\n",
       "      <th>recall</th>\n",
       "      <th>precision</th>\n",
       "      <th>roc_score</th>\n",
       "      <th>confusion_matrix</th>\n",
       "      <th>f1_score</th>\n",
       "    </tr>\n",
       "  </thead>\n",
       "  <tbody>\n",
       "    <tr>\n",
       "      <th>0</th>\n",
       "      <td>RandomForestClassifier</td>\n",
       "      <td>0.001349</td>\n",
       "      <td>0.833333</td>\n",
       "      <td>0.500663</td>\n",
       "      <td>[[84839, 2], [7403, 10]]</td>\n",
       "      <td>0.002694</td>\n",
       "    </tr>\n",
       "  </tbody>\n",
       "</table>\n",
       "</div>"
      ],
      "text/plain": [
       "                   modele    recall  precision  roc_score  \\\n",
       "0  RandomForestClassifier  0.001349   0.833333   0.500663   \n",
       "\n",
       "           confusion_matrix  f1_score  \n",
       "0  [[84839, 2], [7403, 10]]  0.002694  "
      ]
     },
     "execution_count": 31,
     "metadata": {},
     "output_type": "execute_result"
    }
   ],
   "source": [
    "df_scores"
   ]
  },
  {
   "cell_type": "code",
   "execution_count": 32,
   "id": "b05282b9",
   "metadata": {},
   "outputs": [],
   "source": [
    "tn_rf, fp_rf, fn_rf, tp_rf = df_scores['confusion_matrix'][0].ravel()"
   ]
  },
  {
   "cell_type": "code",
   "execution_count": 33,
   "id": "568e8842",
   "metadata": {},
   "outputs": [
    {
     "data": {
      "text/plain": [
       "<sklearn.metrics._plot.confusion_matrix.ConfusionMatrixDisplay at 0x1ee39c70f10>"
      ]
     },
     "execution_count": 33,
     "metadata": {},
     "output_type": "execute_result"
    },
    {
     "data": {
      "image/png": "[encoded data removed]",
      "text/plain": [
       "<Figure size 432x288 with 2 Axes>"
      ]
     },
     "metadata": {
      "needs_background": "light"
     },
     "output_type": "display_data"
    }
   ],
   "source": [
    "disp = ConfusionMatrixDisplay(confusion_matrix=df_scores['confusion_matrix'][0],\n",
    "                              display_labels=random_forest.classes_)\n",
    "disp.plot()"
   ]
  },
  {
   "cell_type": "code",
   "execution_count": 34,
   "id": "a294c7ff",
   "metadata": {},
   "outputs": [
    {
     "data": {
      "image/png": "[encoded data removed]",
      "text/plain": [
       "<Figure size 720x432 with 1 Axes>"
      ]
     },
     "metadata": {
      "needs_background": "light"
     },
     "output_type": "display_data"
    }
   ],
   "source": [
    "feature_importances_rf=plot_feature_importances(feature_importances_rf)"
   ]
  },
  {
   "cell_type": "markdown",
   "id": "e9a90b36",
   "metadata": {},
   "source": [
    "F1 = 2 * (precision * recall) / (precision + recall)\n",
    "precision = +p / (tp + fp)\n",
    "recall = tp / (tp + fn)\n",
    "\n",
    "F1 = 2* tp^2/(tp(tp+fn)+tp(tp+fp)) = 2* tp^2/tp(2* tp + fn + fp) = 2 tp/ 2 * tp + fn +fp\n",
    "\n",
    "fn+fp=0\n"
   ]
  },
  {
   "cell_type": "markdown",
   "id": "21e06ba2",
   "metadata": {},
   "source": [
    "## Gradient Boosting"
   ]
  },
  {
   "cell_type": "code",
   "execution_count": 35,
   "id": "dd1593dd",
   "metadata": {},
   "outputs": [
    {
     "name": "stdout",
     "output_type": "stream",
     "text": [
      "      Iter       Train Loss   Remaining Time \n",
      "         1           0.5535           14.48m\n",
      "         2           0.5473           13.42m\n",
      "         3           0.5423           13.05m\n",
      "         4           0.5385           12.41m\n",
      "         5           0.5353           12.24m\n",
      "         6           0.5324           11.86m\n",
      "         7           0.5300           11.69m\n",
      "         8           0.5277           11.51m\n",
      "         9           0.5259           11.35m\n",
      "        10           0.5240           11.29m\n",
      "        20           0.5127            9.96m\n",
      "        30           0.5058            8.67m\n",
      "        40           0.5014            7.34m\n",
      "        50           0.4983            6.07m\n",
      "        60           0.4959            4.82m\n",
      "        70           0.4938            3.63m\n",
      "        80           0.4922            2.42m\n",
      "        90           0.4906            1.20m\n",
      "       100           0.4894            0.00s\n"
     ]
    }
   ],
   "source": [
    "df_scores,feature_importances_gb,y_pred_gb=training_classifier(df_scores,gradient_boosting)"
   ]
  },
  {
   "cell_type": "code",
   "execution_count": 36,
   "id": "00f1f149",
   "metadata": {},
   "outputs": [],
   "source": [
    "tn_gb, fp_gb, fn_gb, tp_gb = df_scores['confusion_matrix'][1].ravel()"
   ]
  },
  {
   "cell_type": "code",
   "execution_count": 37,
   "id": "f22bf274",
   "metadata": {},
   "outputs": [
    {
     "data": {
      "text/plain": [
       "<sklearn.metrics._plot.confusion_matrix.ConfusionMatrixDisplay at 0x1ee3a17d9d0>"
      ]
     },
     "execution_count": 37,
     "metadata": {},
     "output_type": "execute_result"
    },
    {
     "data": {
      "image/png": "[encoded data removed]",
      "text/plain": [
       "<Figure size 432x288 with 2 Axes>"
      ]
     },
     "metadata": {
      "needs_background": "light"
     },
     "output_type": "display_data"
    }
   ],
   "source": [
    "disp = ConfusionMatrixDisplay(confusion_matrix=df_scores['confusion_matrix'][1],\n",
    "                              display_labels=gradient_boosting.classes_)\n",
    "disp.plot()"
   ]
  },
  {
   "cell_type": "code",
   "execution_count": 38,
   "id": "231f7f4e",
   "metadata": {},
   "outputs": [
    {
     "data": {
      "image/png": "[encoded data removed]",
      "text/plain": [
       "<Figure size 720x432 with 1 Axes>"
      ]
     },
     "metadata": {
      "needs_background": "light"
     },
     "output_type": "display_data"
    }
   ],
   "source": [
    "feature_importances_gb=plot_feature_importances(feature_importances_gb)"
   ]
  },
  {
   "cell_type": "markdown",
   "id": "475fe551",
   "metadata": {},
   "source": [
    "## Decision Tree Classifier"
   ]
  },
  {
   "cell_type": "code",
   "execution_count": 39,
   "id": "b1189b56",
   "metadata": {},
   "outputs": [],
   "source": [
    "df_scores,feature_importances_dtc,y_pred_dtc=training_classifier(df_scores,dtc)"
   ]
  },
  {
   "cell_type": "markdown",
   "id": "1b776c59",
   "metadata": {},
   "source": [
    "feature_importances_dtc,y_pred_dtc=model_classifier(X_train, y_train,X_test,y_test,dtc)\n",
    "training_classifier(df_scores,dtc)"
   ]
  },
  {
   "cell_type": "code",
   "execution_count": 40,
   "id": "bb13cdff",
   "metadata": {},
   "outputs": [],
   "source": [
    "tn_dtc, fp_dtc, fn_dtc, tp_dtc = df_scores['confusion_matrix'][2].ravel()"
   ]
  },
  {
   "cell_type": "code",
   "execution_count": 41,
   "id": "6bd8cc03",
   "metadata": {},
   "outputs": [
    {
     "data": {
      "text/plain": [
       "<sklearn.metrics._plot.confusion_matrix.ConfusionMatrixDisplay at 0x1ee39c70520>"
      ]
     },
     "execution_count": 41,
     "metadata": {},
     "output_type": "execute_result"
    },
    {
     "data": {
      "image/png": "[encoded data removed]",
      "text/plain": [
       "<Figure size 432x288 with 2 Axes>"
      ]
     },
     "metadata": {
      "needs_background": "light"
     },
     "output_type": "display_data"
    }
   ],
   "source": [
    "disp = ConfusionMatrixDisplay(confusion_matrix=df_scores['confusion_matrix'][2],\n",
    "                              display_labels=dtc.classes_)\n",
    "disp.plot()"
   ]
  },
  {
   "cell_type": "code",
   "execution_count": 42,
   "id": "c291f302",
   "metadata": {},
   "outputs": [
    {
     "data": {
      "image/png": "[encoded data removed]",
      "text/plain": [
       "<Figure size 720x432 with 1 Axes>"
      ]
     },
     "metadata": {
      "needs_background": "light"
     },
     "output_type": "display_data"
    }
   ],
   "source": [
    "feature_importances_dtc=plot_feature_importances(feature_importances_dtc)"
   ]
  },
  {
   "cell_type": "markdown",
   "id": "e81ec524",
   "metadata": {},
   "source": [
    "## XGBoost"
   ]
  },
  {
   "cell_type": "code",
   "execution_count": 43,
   "id": "e3717401",
   "metadata": {},
   "outputs": [],
   "source": [
    "df_scores,feature_importances_xgb,y_pred_xgb=training_classifier(df_scores,xgb)"
   ]
  },
  {
   "cell_type": "markdown",
   "id": "ba74bc41",
   "metadata": {},
   "source": [
    "feature_importances_xgb,y_pred_xgb=model_classifier(X_train, y_train,X_test,y_test,xgb)\n",
    "training_classifier(df_scores,xgb)"
   ]
  },
  {
   "cell_type": "code",
   "execution_count": 44,
   "id": "f0465c42",
   "metadata": {},
   "outputs": [],
   "source": [
    "tn_xgb, fp_xgb, fn_xgb, tp_xgb = df_scores['confusion_matrix'][2].ravel()"
   ]
  },
  {
   "cell_type": "code",
   "execution_count": 45,
   "id": "b4eb38b6",
   "metadata": {},
   "outputs": [
    {
     "data": {
      "text/plain": [
       "<sklearn.metrics._plot.confusion_matrix.ConfusionMatrixDisplay at 0x1ee3abf32e0>"
      ]
     },
     "execution_count": 45,
     "metadata": {},
     "output_type": "execute_result"
    },
    {
     "data": {
      "image/png": "[encoded data removed]",
      "text/plain": [
       "<Figure size 432x288 with 2 Axes>"
      ]
     },
     "metadata": {
      "needs_background": "light"
     },
     "output_type": "display_data"
    }
   ],
   "source": [
    "disp = ConfusionMatrixDisplay(confusion_matrix=df_scores['confusion_matrix'][2],\n",
    "                              display_labels=xgb.classes_)\n",
    "disp.plot()"
   ]
  },
  {
   "cell_type": "code",
   "execution_count": 46,
   "id": "f686910f",
   "metadata": {},
   "outputs": [
    {
     "data": {
      "image/png": "[encoded data removed]",
      "text/plain": [
       "<Figure size 720x432 with 1 Axes>"
      ]
     },
     "metadata": {
      "needs_background": "light"
     },
     "output_type": "display_data"
    }
   ],
   "source": [
    "feature_importances_xgb=plot_feature_importances(feature_importances_xgb)"
   ]
  },
  {
   "cell_type": "markdown",
   "id": "df62df72",
   "metadata": {},
   "source": [
    "## LGBM"
   ]
  },
  {
   "cell_type": "code",
   "execution_count": 47,
   "id": "5d7eb0b8",
   "metadata": {},
   "outputs": [],
   "source": [
    "df_scores,feature_importances_lgbm,y_pred_lgbm=training_classifier(df_scores,lgbm)"
   ]
  },
  {
   "cell_type": "markdown",
   "id": "1a2b9db5",
   "metadata": {},
   "source": [
    "feature_importances_lgbm,y_pred_lgbm=model_classifier(X_train, y_train,X_test,y_test,lgbm)\n",
    "training_classifier(df_scores,lgbm)"
   ]
  },
  {
   "cell_type": "code",
   "execution_count": 48,
   "id": "2e0bbb8b",
   "metadata": {},
   "outputs": [],
   "source": [
    "tn_lgbm, fp_lgbm, fn_lgbm, tp_lgbm = df_scores['confusion_matrix'][2].ravel()"
   ]
  },
  {
   "cell_type": "code",
   "execution_count": 49,
   "id": "49319621",
   "metadata": {},
   "outputs": [
    {
     "data": {
      "text/plain": [
       "<sklearn.metrics._plot.confusion_matrix.ConfusionMatrixDisplay at 0x1ee39edf400>"
      ]
     },
     "execution_count": 49,
     "metadata": {},
     "output_type": "execute_result"
    },
    {
     "data": {
      "image/png": "[encoded data removed]",
      "text/plain": [
       "<Figure size 432x288 with 2 Axes>"
      ]
     },
     "metadata": {
      "needs_background": "light"
     },
     "output_type": "display_data"
    }
   ],
   "source": [
    "disp = ConfusionMatrixDisplay(confusion_matrix=df_scores['confusion_matrix'][3],\n",
    "                              display_labels=lgbm.classes_)\n",
    "disp.plot()"
   ]
  },
  {
   "cell_type": "code",
   "execution_count": 50,
   "id": "878396f4",
   "metadata": {},
   "outputs": [
    {
     "data": {
      "image/png": "[encoded data removed]",
      "text/plain": [
       "<Figure size 720x432 with 1 Axes>"
      ]
     },
     "metadata": {
      "needs_background": "light"
     },
     "output_type": "display_data"
    }
   ],
   "source": [
    "feature_importances_lgbm=plot_feature_importances(feature_importances_lgbm)"
   ]
  },
  {
   "cell_type": "code",
   "execution_count": 51,
   "id": "af0b0302",
   "metadata": {},
   "outputs": [
    {
     "data": {
      "image/png": "[encoded data removed]",
      "text/plain": [
       "<Figure size 720x360 with 1 Axes>"
      ]
     },
     "metadata": {
      "needs_background": "light"
     },
     "output_type": "display_data"
    }
   ],
   "source": [
    "barplot_classifier(df_scores,'f1_score','modele')"
   ]
  },
  {
   "cell_type": "code",
   "execution_count": 52,
   "id": "deaa9f01",
   "metadata": {},
   "outputs": [
    {
     "data": {
      "image/png": "[encoded data removed]",
      "text/plain": [
       "<Figure size 720x360 with 1 Axes>"
      ]
     },
     "metadata": {
      "needs_background": "light"
     },
     "output_type": "display_data"
    }
   ],
   "source": [
    "barplot_classifier(df_scores,'recall','modele')"
   ]
  },
  {
   "cell_type": "code",
   "execution_count": 53,
   "id": "31a8817a",
   "metadata": {},
   "outputs": [
    {
     "data": {
      "image/png": "[encoded data removed]",
      "text/plain": [
       "<Figure size 720x360 with 1 Axes>"
      ]
     },
     "metadata": {
      "needs_background": "light"
     },
     "output_type": "display_data"
    }
   ],
   "source": [
    "barplot_classifier(df_scores,'roc_score','modele')"
   ]
  },
  {
   "cell_type": "code",
   "execution_count": 54,
   "id": "de0a1896",
   "metadata": {},
   "outputs": [
    {
     "data": {
      "image/png": "[encoded data removed]",
      "text/plain": [
       "<Figure size 720x360 with 1 Axes>"
      ]
     },
     "metadata": {
      "needs_background": "light"
     },
     "output_type": "display_data"
    }
   ],
   "source": [
    "barplot_classifier(df_scores,'precision','modele')"
   ]
  },
  {
   "cell_type": "markdown",
   "id": "10675eda",
   "metadata": {},
   "source": []
  },
  {
   "cell_type": "code",
   "execution_count": 55,
   "id": "d602d956",
   "metadata": {},
   "outputs": [],
   "source": [
    "score_sampler=[]\n",
    "df_scores_samplers = pd.DataFrame(score_sampler, columns=['modele', 'recall','precision','roc_score','confusion_matrix','f1_score'])"
   ]
  },
  {
   "cell_type": "code",
   "execution_count": 56,
   "id": "7fed08e4",
   "metadata": {},
   "outputs": [],
   "source": [
    "score_cout=[]\n",
    "df_score_cout = pd.DataFrame(score_cout, columns=['modele', 'score_cout'])"
   ]
  },
  {
   "cell_type": "markdown",
   "id": "0ef3e3c5",
   "metadata": {},
   "source": [
    "## Modeles sous-echantilloné "
   ]
  },
  {
   "cell_type": "code",
   "execution_count": 57,
   "id": "061f3493",
   "metadata": {},
   "outputs": [],
   "source": [
    "rus = RandomUnderSampler(random_state=42, replacement=True)# fit predictor and target variable\n",
    "x_rus, y_rus = rus.fit_resample(train, train_labels)\n",
    "X_train, X_test, y_train, y_test = train_test_split(x_rus, y_rus, test_size=0.3, random_state=42)"
   ]
  },
  {
   "cell_type": "code",
   "execution_count": 58,
   "id": "d7dba638",
   "metadata": {},
   "outputs": [
    {
     "name": "stderr",
     "output_type": "stream",
     "text": [
      "[Parallel(n_jobs=-1)]: Using backend ThreadingBackend with 12 concurrent workers.\n",
      "[Parallel(n_jobs=-1)]: Done  26 tasks      | elapsed:    5.1s\n",
      "[Parallel(n_jobs=-1)]: Done 100 out of 100 | elapsed:   18.9s finished\n",
      "[Parallel(n_jobs=12)]: Using backend ThreadingBackend with 12 concurrent workers.\n",
      "[Parallel(n_jobs=12)]: Done  26 tasks      | elapsed:    0.2s\n",
      "[Parallel(n_jobs=12)]: Done 100 out of 100 | elapsed:    0.8s finished\n"
     ]
    }
   ],
   "source": [
    "df_scores_samplers,feature_importances_random_forest_rus,random_forest_prefict_rus=training_classifier(df_scores_samplers,random_forest)"
   ]
  },
  {
   "cell_type": "code",
   "execution_count": 59,
   "id": "45a6d1b1",
   "metadata": {},
   "outputs": [
    {
     "data": {
      "text/html": [
       "<div>\n",
       "<style scoped>\n",
       "    .dataframe tbody tr th:only-of-type {\n",
       "        vertical-align: middle;\n",
       "    }\n",
       "\n",
       "    .dataframe tbody tr th {\n",
       "        vertical-align: top;\n",
       "    }\n",
       "\n",
       "    .dataframe thead th {\n",
       "        text-align: right;\n",
       "    }\n",
       "</style>\n",
       "<table border=\"1\" class=\"dataframe\">\n",
       "  <thead>\n",
       "    <tr style=\"text-align: right;\">\n",
       "      <th></th>\n",
       "      <th>modele</th>\n",
       "      <th>score_cout</th>\n",
       "    </tr>\n",
       "  </thead>\n",
       "  <tbody>\n",
       "    <tr>\n",
       "      <th>0</th>\n",
       "      <td>RandomForestClassifier</td>\n",
       "      <td>0.818956</td>\n",
       "    </tr>\n",
       "  </tbody>\n",
       "</table>\n",
       "</div>"
      ],
      "text/plain": [
       "                   modele  score_cout\n",
       "0  RandomForestClassifier    0.818956"
      ]
     },
     "execution_count": 59,
     "metadata": {},
     "output_type": "execute_result"
    }
   ],
   "source": [
    "tn_rf_rus, fp_rf_rus, fn_rf_rus, tp_rf_rus= df_scores_samplers['confusion_matrix'][0].ravel()\n",
    "cout_fonction(tn_rf_rus, fp_rf_rus, fn_rf_rus, tp_rf_rus,0.1,0.9,random_forest,df_score_cout)"
   ]
  },
  {
   "cell_type": "code",
   "execution_count": 60,
   "id": "ad55b7ca",
   "metadata": {},
   "outputs": [
    {
     "data": {
      "text/plain": [
       "<sklearn.metrics._plot.confusion_matrix.ConfusionMatrixDisplay at 0x1ee68ed4250>"
      ]
     },
     "execution_count": 60,
     "metadata": {},
     "output_type": "execute_result"
    },
    {
     "data": {
      "image/png": "[encoded data removed]",
      "text/plain": [
       "<Figure size 432x288 with 2 Axes>"
      ]
     },
     "metadata": {
      "needs_background": "light"
     },
     "output_type": "display_data"
    }
   ],
   "source": [
    "disp = ConfusionMatrixDisplay(confusion_matrix=df_scores_samplers['confusion_matrix'][0],\n",
    "                              display_labels=random_forest.classes_)\n",
    "disp.plot()"
   ]
  },
  {
   "cell_type": "code",
   "execution_count": 61,
   "id": "d17a09ec",
   "metadata": {},
   "outputs": [
    {
     "name": "stdout",
     "output_type": "stream",
     "text": [
      "      Iter       Train Loss   Remaining Time \n",
      "         1           1.3645            1.75m\n",
      "         2           1.3463            1.75m\n",
      "         3           1.3309            1.74m\n",
      "         4           1.3178            1.72m\n",
      "         5           1.3063            1.69m\n",
      "         6           1.2965            1.67m\n",
      "         7           1.2877            1.66m\n",
      "         8           1.2800            1.64m\n",
      "         9           1.2731            1.62m\n",
      "        10           1.2668            1.60m\n",
      "        20           1.2268            1.35m\n",
      "        30           1.2032            1.16m\n",
      "        40           1.1872           59.52s\n",
      "        50           1.1771           49.31s\n",
      "        60           1.1683           39.32s\n",
      "        70           1.1615           29.39s\n",
      "        80           1.1557           19.55s\n",
      "        90           1.1495            9.76s\n",
      "       100           1.1449            0.00s\n"
     ]
    }
   ],
   "source": [
    "df_scores_samplers,feature_importances_gb_rus,gb_prefict_rus=training_classifier(df_scores_samplers,gradient_boosting)"
   ]
  },
  {
   "cell_type": "code",
   "execution_count": 62,
   "id": "4d502cf7",
   "metadata": {},
   "outputs": [
    {
     "data": {
      "text/html": [
       "<div>\n",
       "<style scoped>\n",
       "    .dataframe tbody tr th:only-of-type {\n",
       "        vertical-align: middle;\n",
       "    }\n",
       "\n",
       "    .dataframe tbody tr th {\n",
       "        vertical-align: top;\n",
       "    }\n",
       "\n",
       "    .dataframe thead th {\n",
       "        text-align: right;\n",
       "    }\n",
       "</style>\n",
       "<table border=\"1\" class=\"dataframe\">\n",
       "  <thead>\n",
       "    <tr style=\"text-align: right;\">\n",
       "      <th></th>\n",
       "      <th>modele</th>\n",
       "      <th>score_cout</th>\n",
       "    </tr>\n",
       "  </thead>\n",
       "  <tbody>\n",
       "    <tr>\n",
       "      <th>0</th>\n",
       "      <td>RandomForestClassifier</td>\n",
       "      <td>0.818956</td>\n",
       "    </tr>\n",
       "    <tr>\n",
       "      <th>1</th>\n",
       "      <td>GradientBoostingClassifier</td>\n",
       "      <td>0.818031</td>\n",
       "    </tr>\n",
       "  </tbody>\n",
       "</table>\n",
       "</div>"
      ],
      "text/plain": [
       "                       modele  score_cout\n",
       "0      RandomForestClassifier    0.818956\n",
       "1  GradientBoostingClassifier    0.818031"
      ]
     },
     "execution_count": 62,
     "metadata": {},
     "output_type": "execute_result"
    }
   ],
   "source": [
    "tn_gb_rus, fp_gb_rus, fn_gb_rus, tp_gb_rus= df_scores_samplers['confusion_matrix'][1].ravel()\n",
    "cout_fonction(tn_gb_rus, fp_gb_rus, fn_gb_rus, tp_gb_rus,0.1,0.9,gradient_boosting,df_score_cout)"
   ]
  },
  {
   "cell_type": "code",
   "execution_count": 63,
   "id": "f325f35d",
   "metadata": {},
   "outputs": [
    {
     "data": {
      "text/plain": [
       "<sklearn.metrics._plot.confusion_matrix.ConfusionMatrixDisplay at 0x1ee3c3ac310>"
      ]
     },
     "execution_count": 63,
     "metadata": {},
     "output_type": "execute_result"
    },
    {
     "data": {
      "image/png": "[encoded data removed]",
      "text/plain": [
       "<Figure size 432x288 with 2 Axes>"
      ]
     },
     "metadata": {
      "needs_background": "light"
     },
     "output_type": "display_data"
    }
   ],
   "source": [
    "disp = ConfusionMatrixDisplay(confusion_matrix=df_scores_samplers['confusion_matrix'][1],\n",
    "                              display_labels=gradient_boosting.classes_)\n",
    "disp.plot()"
   ]
  },
  {
   "cell_type": "code",
   "execution_count": 64,
   "id": "f391b730",
   "metadata": {},
   "outputs": [],
   "source": [
    "df_scores_samplers,feature_importances_dtc_rus,dtc_prefict_rus=training_classifier(df_scores_samplers,dtc)"
   ]
  },
  {
   "cell_type": "code",
   "execution_count": 65,
   "id": "25b3951e",
   "metadata": {},
   "outputs": [
    {
     "data": {
      "text/html": [
       "<div>\n",
       "<style scoped>\n",
       "    .dataframe tbody tr th:only-of-type {\n",
       "        vertical-align: middle;\n",
       "    }\n",
       "\n",
       "    .dataframe tbody tr th {\n",
       "        vertical-align: top;\n",
       "    }\n",
       "\n",
       "    .dataframe thead th {\n",
       "        text-align: right;\n",
       "    }\n",
       "</style>\n",
       "<table border=\"1\" class=\"dataframe\">\n",
       "  <thead>\n",
       "    <tr style=\"text-align: right;\">\n",
       "      <th></th>\n",
       "      <th>modele</th>\n",
       "      <th>score_cout</th>\n",
       "    </tr>\n",
       "  </thead>\n",
       "  <tbody>\n",
       "    <tr>\n",
       "      <th>0</th>\n",
       "      <td>RandomForestClassifier</td>\n",
       "      <td>0.818956</td>\n",
       "    </tr>\n",
       "    <tr>\n",
       "      <th>1</th>\n",
       "      <td>GradientBoostingClassifier</td>\n",
       "      <td>0.818031</td>\n",
       "    </tr>\n",
       "    <tr>\n",
       "      <th>2</th>\n",
       "      <td>DecisionTreeClassifier</td>\n",
       "      <td>0.754320</td>\n",
       "    </tr>\n",
       "  </tbody>\n",
       "</table>\n",
       "</div>"
      ],
      "text/plain": [
       "                       modele  score_cout\n",
       "0      RandomForestClassifier    0.818956\n",
       "1  GradientBoostingClassifier    0.818031\n",
       "2      DecisionTreeClassifier    0.754320"
      ]
     },
     "execution_count": 65,
     "metadata": {},
     "output_type": "execute_result"
    }
   ],
   "source": [
    "tn_dtc_rus, fp_dtc_rus, fn_dtc_rus, tp_dtc_rus= df_scores_samplers['confusion_matrix'][2].ravel()\n",
    "cout_fonction(tn_dtc_rus, fp_dtc_rus, fn_dtc_rus, tp_dtc_rus,0.1,0.9,dtc,df_score_cout)"
   ]
  },
  {
   "cell_type": "code",
   "execution_count": 66,
   "id": "2bb66560",
   "metadata": {},
   "outputs": [
    {
     "data": {
      "text/plain": [
       "<sklearn.metrics._plot.confusion_matrix.ConfusionMatrixDisplay at 0x1ee39d81550>"
      ]
     },
     "execution_count": 66,
     "metadata": {},
     "output_type": "execute_result"
    },
    {
     "data": {
      "image/png": "[encoded data removed]",
      "text/plain": [
       "<Figure size 432x288 with 2 Axes>"
      ]
     },
     "metadata": {
      "needs_background": "light"
     },
     "output_type": "display_data"
    }
   ],
   "source": [
    "disp = ConfusionMatrixDisplay(confusion_matrix=df_scores_samplers['confusion_matrix'][2],\n",
    "                              display_labels=dtc.classes_)\n",
    "disp.plot()"
   ]
  },
  {
   "cell_type": "code",
   "execution_count": 67,
   "id": "0b01fabf",
   "metadata": {},
   "outputs": [],
   "source": [
    "df_scores_samplers,feature_importances_xgb_rus,xgb_prefict_rus=training_classifier(df_scores_samplers,xgb)"
   ]
  },
  {
   "cell_type": "code",
   "execution_count": 68,
   "id": "9012dbb4",
   "metadata": {},
   "outputs": [
    {
     "data": {
      "text/html": [
       "<div>\n",
       "<style scoped>\n",
       "    .dataframe tbody tr th:only-of-type {\n",
       "        vertical-align: middle;\n",
       "    }\n",
       "\n",
       "    .dataframe tbody tr th {\n",
       "        vertical-align: top;\n",
       "    }\n",
       "\n",
       "    .dataframe thead th {\n",
       "        text-align: right;\n",
       "    }\n",
       "</style>\n",
       "<table border=\"1\" class=\"dataframe\">\n",
       "  <thead>\n",
       "    <tr style=\"text-align: right;\">\n",
       "      <th></th>\n",
       "      <th>modele</th>\n",
       "      <th>score_cout</th>\n",
       "    </tr>\n",
       "  </thead>\n",
       "  <tbody>\n",
       "    <tr>\n",
       "      <th>0</th>\n",
       "      <td>RandomForestClassifier</td>\n",
       "      <td>0.818956</td>\n",
       "    </tr>\n",
       "    <tr>\n",
       "      <th>1</th>\n",
       "      <td>GradientBoostingClassifier</td>\n",
       "      <td>0.818031</td>\n",
       "    </tr>\n",
       "    <tr>\n",
       "      <th>2</th>\n",
       "      <td>XGBClassifier</td>\n",
       "      <td>0.816248</td>\n",
       "    </tr>\n",
       "    <tr>\n",
       "      <th>3</th>\n",
       "      <td>DecisionTreeClassifier</td>\n",
       "      <td>0.754320</td>\n",
       "    </tr>\n",
       "  </tbody>\n",
       "</table>\n",
       "</div>"
      ],
      "text/plain": [
       "                       modele  score_cout\n",
       "0      RandomForestClassifier    0.818956\n",
       "1  GradientBoostingClassifier    0.818031\n",
       "2               XGBClassifier    0.816248\n",
       "3      DecisionTreeClassifier    0.754320"
      ]
     },
     "execution_count": 68,
     "metadata": {},
     "output_type": "execute_result"
    }
   ],
   "source": [
    "tn_xgb_rus, fp_xgb_rus, fn_xgb_rus, tp_xgb_rus= df_scores_samplers['confusion_matrix'][2].ravel()\n",
    "cout_fonction(tn_xgb_rus, fp_xgb_rus, fn_xgb_rus, tp_xgb_rus,0.1,0.9,xgb,df_score_cout)"
   ]
  },
  {
   "cell_type": "code",
   "execution_count": 69,
   "id": "7d2c5a7c",
   "metadata": {},
   "outputs": [
    {
     "data": {
      "text/plain": [
       "<sklearn.metrics._plot.confusion_matrix.ConfusionMatrixDisplay at 0x1ee3a14a550>"
      ]
     },
     "execution_count": 69,
     "metadata": {},
     "output_type": "execute_result"
    },
    {
     "data": {
      "image/png": "[encoded data removed]",
      "text/plain": [
       "<Figure size 432x288 with 2 Axes>"
      ]
     },
     "metadata": {
      "needs_background": "light"
     },
     "output_type": "display_data"
    }
   ],
   "source": [
    "disp = ConfusionMatrixDisplay(confusion_matrix=df_scores_samplers['confusion_matrix'][2],\n",
    "                              display_labels=xgb.classes_)\n",
    "disp.plot()"
   ]
  },
  {
   "cell_type": "code",
   "execution_count": 70,
   "id": "2f5d478e",
   "metadata": {},
   "outputs": [],
   "source": [
    "df_scores_samplers,feature_importances_lgbm_rus,lgbm_prefict_rus=training_classifier(df_scores_samplers,lgbm)"
   ]
  },
  {
   "cell_type": "code",
   "execution_count": 71,
   "id": "e969cb7a",
   "metadata": {},
   "outputs": [
    {
     "data": {
      "text/html": [
       "<div>\n",
       "<style scoped>\n",
       "    .dataframe tbody tr th:only-of-type {\n",
       "        vertical-align: middle;\n",
       "    }\n",
       "\n",
       "    .dataframe tbody tr th {\n",
       "        vertical-align: top;\n",
       "    }\n",
       "\n",
       "    .dataframe thead th {\n",
       "        text-align: right;\n",
       "    }\n",
       "</style>\n",
       "<table border=\"1\" class=\"dataframe\">\n",
       "  <thead>\n",
       "    <tr style=\"text-align: right;\">\n",
       "      <th></th>\n",
       "      <th>modele</th>\n",
       "      <th>score_cout</th>\n",
       "    </tr>\n",
       "  </thead>\n",
       "  <tbody>\n",
       "    <tr>\n",
       "      <th>0</th>\n",
       "      <td>LGBMClassifier</td>\n",
       "      <td>0.821524</td>\n",
       "    </tr>\n",
       "    <tr>\n",
       "      <th>1</th>\n",
       "      <td>RandomForestClassifier</td>\n",
       "      <td>0.818956</td>\n",
       "    </tr>\n",
       "    <tr>\n",
       "      <th>2</th>\n",
       "      <td>GradientBoostingClassifier</td>\n",
       "      <td>0.818031</td>\n",
       "    </tr>\n",
       "    <tr>\n",
       "      <th>3</th>\n",
       "      <td>XGBClassifier</td>\n",
       "      <td>0.816248</td>\n",
       "    </tr>\n",
       "    <tr>\n",
       "      <th>4</th>\n",
       "      <td>DecisionTreeClassifier</td>\n",
       "      <td>0.754320</td>\n",
       "    </tr>\n",
       "  </tbody>\n",
       "</table>\n",
       "</div>"
      ],
      "text/plain": [
       "                       modele  score_cout\n",
       "0              LGBMClassifier    0.821524\n",
       "1      RandomForestClassifier    0.818956\n",
       "2  GradientBoostingClassifier    0.818031\n",
       "3               XGBClassifier    0.816248\n",
       "4      DecisionTreeClassifier    0.754320"
      ]
     },
     "execution_count": 71,
     "metadata": {},
     "output_type": "execute_result"
    }
   ],
   "source": [
    "tn_lgbm_rus, fp_lgbm_rus, fn_lgbm_rus, tp_lgbm_rus= df_scores_samplers['confusion_matrix'][0].ravel()\n",
    "cout_fonction(tn_lgbm_rus, fp_lgbm_rus, fn_lgbm_rus, tp_lgbm_rus,0.1,0.9,lgbm,df_score_cout)"
   ]
  },
  {
   "cell_type": "code",
   "execution_count": 72,
   "id": "a361f9fd",
   "metadata": {
    "scrolled": true
   },
   "outputs": [
    {
     "data": {
      "text/plain": [
       "<sklearn.metrics._plot.confusion_matrix.ConfusionMatrixDisplay at 0x1ee3ac29fd0>"
      ]
     },
     "execution_count": 72,
     "metadata": {},
     "output_type": "execute_result"
    },
    {
     "data": {
      "image/png": "[encoded data removed]",
      "text/plain": [
       "<Figure size 432x288 with 2 Axes>"
      ]
     },
     "metadata": {
      "needs_background": "light"
     },
     "output_type": "display_data"
    }
   ],
   "source": [
    "disp = ConfusionMatrixDisplay(confusion_matrix=df_scores_samplers['confusion_matrix'][0],\n",
    "                              display_labels=lgbm.classes_)\n",
    "disp.plot()"
   ]
  },
  {
   "cell_type": "code",
   "execution_count": 73,
   "id": "a558a478",
   "metadata": {},
   "outputs": [],
   "source": [
    "df_scores_cout=df_scores_samplers.merge(df_score_cout, how='left')"
   ]
  },
  {
   "cell_type": "code",
   "execution_count": 74,
   "id": "d26ad992",
   "metadata": {},
   "outputs": [
    {
     "data": {
      "text/html": [
       "<div>\n",
       "<style scoped>\n",
       "    .dataframe tbody tr th:only-of-type {\n",
       "        vertical-align: middle;\n",
       "    }\n",
       "\n",
       "    .dataframe tbody tr th {\n",
       "        vertical-align: top;\n",
       "    }\n",
       "\n",
       "    .dataframe thead th {\n",
       "        text-align: right;\n",
       "    }\n",
       "</style>\n",
       "<table border=\"1\" class=\"dataframe\">\n",
       "  <thead>\n",
       "    <tr style=\"text-align: right;\">\n",
       "      <th></th>\n",
       "      <th>modele</th>\n",
       "      <th>recall</th>\n",
       "      <th>precision</th>\n",
       "      <th>roc_score</th>\n",
       "      <th>confusion_matrix</th>\n",
       "      <th>f1_score</th>\n",
       "      <th>score_cout</th>\n",
       "    </tr>\n",
       "  </thead>\n",
       "  <tbody>\n",
       "    <tr>\n",
       "      <th>0</th>\n",
       "      <td>LGBMClassifier</td>\n",
       "      <td>0.693659</td>\n",
       "      <td>0.697493</td>\n",
       "      <td>0.695942</td>\n",
       "      <td>[[5192, 2244], [2285, 5174]]</td>\n",
       "      <td>0.695570</td>\n",
       "      <td>0.821524</td>\n",
       "    </tr>\n",
       "    <tr>\n",
       "      <th>1</th>\n",
       "      <td>RandomForestClassifier</td>\n",
       "      <td>0.666309</td>\n",
       "      <td>0.696566</td>\n",
       "      <td>0.687579</td>\n",
       "      <td>[[5271, 2165], [2489, 4970]]</td>\n",
       "      <td>0.681102</td>\n",
       "      <td>0.818956</td>\n",
       "    </tr>\n",
       "    <tr>\n",
       "      <th>2</th>\n",
       "      <td>GradientBoostingClassifier</td>\n",
       "      <td>0.694597</td>\n",
       "      <td>0.691815</td>\n",
       "      <td>0.692108</td>\n",
       "      <td>[[5128, 2308], [2278, 5181]]</td>\n",
       "      <td>0.693203</td>\n",
       "      <td>0.818031</td>\n",
       "    </tr>\n",
       "    <tr>\n",
       "      <th>3</th>\n",
       "      <td>XGBClassifier</td>\n",
       "      <td>0.685883</td>\n",
       "      <td>0.689953</td>\n",
       "      <td>0.688356</td>\n",
       "      <td>[[5137, 2299], [2343, 5116]]</td>\n",
       "      <td>0.687912</td>\n",
       "      <td>0.816248</td>\n",
       "    </tr>\n",
       "    <tr>\n",
       "      <th>4</th>\n",
       "      <td>DecisionTreeClassifier</td>\n",
       "      <td>0.600215</td>\n",
       "      <td>0.606147</td>\n",
       "      <td>0.604505</td>\n",
       "      <td>[[4527, 2909], [2982, 4477]]</td>\n",
       "      <td>0.603166</td>\n",
       "      <td>0.754320</td>\n",
       "    </tr>\n",
       "  </tbody>\n",
       "</table>\n",
       "</div>"
      ],
      "text/plain": [
       "                       modele    recall  precision  roc_score  \\\n",
       "0              LGBMClassifier  0.693659   0.697493   0.695942   \n",
       "1      RandomForestClassifier  0.666309   0.696566   0.687579   \n",
       "2  GradientBoostingClassifier  0.694597   0.691815   0.692108   \n",
       "3               XGBClassifier  0.685883   0.689953   0.688356   \n",
       "4      DecisionTreeClassifier  0.600215   0.606147   0.604505   \n",
       "\n",
       "               confusion_matrix  f1_score  score_cout  \n",
       "0  [[5192, 2244], [2285, 5174]]  0.695570    0.821524  \n",
       "1  [[5271, 2165], [2489, 4970]]  0.681102    0.818956  \n",
       "2  [[5128, 2308], [2278, 5181]]  0.693203    0.818031  \n",
       "3  [[5137, 2299], [2343, 5116]]  0.687912    0.816248  \n",
       "4  [[4527, 2909], [2982, 4477]]  0.603166    0.754320  "
      ]
     },
     "execution_count": 74,
     "metadata": {},
     "output_type": "execute_result"
    }
   ],
   "source": [
    "df_scores_cout"
   ]
  },
  {
   "cell_type": "markdown",
   "id": "3b403519",
   "metadata": {},
   "source": [
    "## Creation de l'API"
   ]
  },
  {
   "cell_type": "code",
   "execution_count": 75,
   "id": "f194fb92",
   "metadata": {},
   "outputs": [],
   "source": [
    "# Copy of the testing data\n",
    "submit_test = app_test[['SK_ID_CURR']]\n",
    "\n",
    "test = app_test.copy()\n",
    "test = test.drop(columns = ['SK_ID_CURR'])\n",
    "test=imputer(test,SimpleImputer(strategy = 'median'))\n",
    "test=imputer(test,MinMaxScaler(feature_range = (0, 1)))\n",
    "\n",
    "df_test_1= pd.DataFrame(test)\n",
    "df_test_1['SK_ID_CURR']=submit_test"
   ]
  },
  {
   "cell_type": "code",
   "execution_count": 76,
   "id": "ba883027",
   "metadata": {},
   "outputs": [],
   "source": [
    "test_3=[]\n",
    "df_test_3 = pd.DataFrame(test_3, columns=['modele', 'recall','precision','roc_score','confusion_matrix','f1_score'])"
   ]
  },
  {
   "cell_type": "code",
   "execution_count": 77,
   "id": "b14d2ce3",
   "metadata": {},
   "outputs": [],
   "source": [
    "df_test_3,test_feature,predict_test=training_classifier(df_test_3,lgbm)"
   ]
  },
  {
   "cell_type": "code",
   "execution_count": 81,
   "id": "986cd971",
   "metadata": {},
   "outputs": [
    {
     "data": {
      "text/html": [
       "<div>\n",
       "<style scoped>\n",
       "    .dataframe tbody tr th:only-of-type {\n",
       "        vertical-align: middle;\n",
       "    }\n",
       "\n",
       "    .dataframe tbody tr th {\n",
       "        vertical-align: top;\n",
       "    }\n",
       "\n",
       "    .dataframe thead th {\n",
       "        text-align: right;\n",
       "    }\n",
       "</style>\n",
       "<table border=\"1\" class=\"dataframe\">\n",
       "  <thead>\n",
       "    <tr style=\"text-align: right;\">\n",
       "      <th></th>\n",
       "      <th>modele</th>\n",
       "      <th>recall</th>\n",
       "      <th>precision</th>\n",
       "      <th>roc_score</th>\n",
       "      <th>confusion_matrix</th>\n",
       "      <th>f1_score</th>\n",
       "    </tr>\n",
       "  </thead>\n",
       "  <tbody>\n",
       "    <tr>\n",
       "      <th>0</th>\n",
       "      <td>LGBMClassifier</td>\n",
       "      <td>0.693659</td>\n",
       "      <td>0.697493</td>\n",
       "      <td>0.695942</td>\n",
       "      <td>[[5192, 2244], [2285, 5174]]</td>\n",
       "      <td>0.69557</td>\n",
       "    </tr>\n",
       "  </tbody>\n",
       "</table>\n",
       "</div>"
      ],
      "text/plain": [
       "           modele    recall  precision  roc_score  \\\n",
       "0  LGBMClassifier  0.693659   0.697493   0.695942   \n",
       "\n",
       "               confusion_matrix  f1_score  \n",
       "0  [[5192, 2244], [2285, 5174]]   0.69557  "
      ]
     },
     "execution_count": 81,
     "metadata": {},
     "output_type": "execute_result"
    }
   ],
   "source": [
    "df_test_3"
   ]
  },
  {
   "cell_type": "code",
   "execution_count": 79,
   "id": "6b61e71a",
   "metadata": {},
   "outputs": [],
   "source": [
    "pickle_out = open('lgbm_housing.pkl','wb')\n",
    "pickle.dump(lgbm, pickle_out)\n",
    "pickle_out.close()"
   ]
  },
  {
   "cell_type": "code",
   "execution_count": 80,
   "id": "eaf654ca",
   "metadata": {},
   "outputs": [],
   "source": [
    "pickle_out_1 = open('df_test.pkl','wb')\n",
    "pickle.dump(df_test_1, pickle_out_1)\n",
    "pickle_out_1.close()"
   ]
  }
 ],
 "metadata": {
  "kernelspec": {
   "display_name": "Python 3 (ipykernel)",
   "language": "python",
   "name": "python3"
  },
  "language_info": {
   "codemirror_mode": {
    "name": "ipython",
    "version": 3
   },
   "file_extension": ".py",
   "mimetype": "text/x-python",
   "name": "python",
   "nbconvert_exporter": "python",
   "pygments_lexer": "ipython3",
   "version": "3.9.12"
  }
 },
 "nbformat": 4,
 "nbformat_minor": 5
}
